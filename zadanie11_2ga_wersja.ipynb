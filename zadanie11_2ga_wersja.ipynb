{
  "nbformat": 4,
  "nbformat_minor": 0,
  "metadata": {
    "colab": {
      "provenance": [],
      "authorship_tag": "ABX9TyOcgsRBK/A805QZWQeIHHNM",
      "include_colab_link": true
    },
    "kernelspec": {
      "name": "python3",
      "display_name": "Python 3"
    },
    "language_info": {
      "name": "python"
    }
  },
  "cells": [
    {
      "cell_type": "markdown",
      "metadata": {
        "id": "view-in-github",
        "colab_type": "text"
      },
      "source": [
        "<a href=\"https://colab.research.google.com/github/astrusinska/projekt_zaliczeniowy_anna_strusinska_2/blob/main/zadanie11_2ga_wersja.ipynb\" target=\"_parent\"><img src=\"https://colab.research.google.com/assets/colab-badge.svg\" alt=\"Open In Colab\"/></a>"
      ]
    },
    {
      "cell_type": "code",
      "source": [
        "# Jakiego gatunku jest książka studnia i wahadło\n",
        "# co pobieramy najpierw, co potem\n",
        "# w międzyczasie wyszukiwanie, filtrowanie\n",
        "\n",
        "\n",
        "BASE_URL = \"https://wolnelektury.pl/api/\"\n",
        "endpoint = \"books/\"\n",
        "url = f\"{BASE_URL}{endpoint}\""
      ],
      "metadata": {
        "id": "wRzIofUs8nIj"
      },
      "execution_count": null,
      "outputs": []
    },
    {
      "cell_type": "code",
      "source": [
        "import json\n",
        "import requests"
      ],
      "metadata": {
        "id": "AZt6zKyJ-Ldi"
      },
      "execution_count": null,
      "outputs": []
    },
    {
      "cell_type": "code",
      "source": [
        "response = requests.get(url)\n",
        "\n",
        "if response.status_code == 200:\n",
        "  data = response.json()"
      ],
      "metadata": {
        "id": "mHhGS8pU-OjI"
      },
      "execution_count": null,
      "outputs": []
    },
    {
      "cell_type": "code",
      "source": [
        "wahadlo_data = [book for book in data if \"Studnia i wahadło\" in book[\"title\"]]"
      ],
      "metadata": {
        "id": "QHEmmGSt-Suj"
      },
      "execution_count": null,
      "outputs": []
    },
    {
      "cell_type": "code",
      "source": [
        "wahadlo_data"
      ],
      "metadata": {
        "colab": {
          "base_uri": "https://localhost:8080/"
        },
        "id": "vpO_6HsW-iGi",
        "outputId": "fc794a18-0e1e-409b-d26a-c4767a6a0992"
      },
      "execution_count": null,
      "outputs": [
        {
          "output_type": "execute_result",
          "data": {
            "text/plain": [
              "[{'kind': 'Epika',\n",
              "  'full_sort_key': 'poe edgar allan$studnia i wahadl~0o$7677',\n",
              "  'title': 'Studnia i wahadło',\n",
              "  'url': 'https://wolnelektury.pl/katalog/lektura/poe-zloty-zuk-studnia-i-wahadlo/',\n",
              "  'cover_color': '#db4b16',\n",
              "  'author': 'Edgar Allan Poe',\n",
              "  'cover': 'book/cover/poe-zloty-zuk-studnia-i-wahadlo.jpg',\n",
              "  'epoch': 'Romantyzm',\n",
              "  'href': 'https://wolnelektury.pl/api/books/poe-zloty-zuk-studnia-i-wahadlo/',\n",
              "  'has_audio': False,\n",
              "  'genre': 'Opowiadanie',\n",
              "  'simple_thumb': 'https://wolnelektury.pl/media/book/cover_api_thumb/poe-zloty-zuk-studnia-i-wahadlo_9zN6bUF.jpg',\n",
              "  'slug': 'poe-zloty-zuk-studnia-i-wahadlo',\n",
              "  'cover_thumb': 'book/cover_thumb/poe-zloty-zuk-studnia-i-wahadlo_0gfBVE3.jpg',\n",
              "  'liked': None},\n",
              " {'kind': 'Epika',\n",
              "  'full_sort_key': 'poe edgar allan$studnia i wahadl~0o$1897',\n",
              "  'title': 'Studnia i wahadło',\n",
              "  'url': 'https://wolnelektury.pl/katalog/lektura/studnia-i-wahadlo/',\n",
              "  'cover_color': '#db4b16',\n",
              "  'author': 'Edgar Allan Poe',\n",
              "  'cover': 'book/cover/studnia-i-wahadlo.jpg',\n",
              "  'epoch': 'Romantyzm',\n",
              "  'href': 'https://wolnelektury.pl/api/books/studnia-i-wahadlo/',\n",
              "  'has_audio': True,\n",
              "  'genre': 'Opowiadanie',\n",
              "  'simple_thumb': 'https://wolnelektury.pl/media/book/cover_api_thumb/studnia-i-wahadlo_UTzXQLs.jpg',\n",
              "  'slug': 'studnia-i-wahadlo',\n",
              "  'cover_thumb': 'book/cover_thumb/studnia-i-wahadlo_sZMKWB2.jpg',\n",
              "  'liked': None}]"
            ]
          },
          "metadata": {},
          "execution_count": 12
        }
      ]
    },
    {
      "cell_type": "code",
      "source": [
        "print(wahadlo_data[0][\"genre\"])"
      ],
      "metadata": {
        "colab": {
          "base_uri": "https://localhost:8080/"
        },
        "id": "QYf6FUtW-0sZ",
        "outputId": "c208e7ad-9eb3-4b00-c2ef-b50724b556a2"
      },
      "execution_count": null,
      "outputs": [
        {
          "output_type": "stream",
          "name": "stdout",
          "text": [
            "Opowiadanie\n"
          ]
        }
      ]
    }
  ]
}